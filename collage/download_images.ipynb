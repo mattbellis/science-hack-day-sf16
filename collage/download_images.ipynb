{
 "cells": [
  {
   "cell_type": "code",
   "execution_count": 38,
   "metadata": {
    "collapsed": false
   },
   "outputs": [],
   "source": [
    "from flickrapi import FlickrAPI\n",
    "\n",
    "import requests\n",
    "\n",
    "FLICKR_PUBLIC = '7e39063b2d299a6b2b123fd0b\n",
    "8003bdc'\n",
    "FLICKR_SECRET = '33983c1d9500995c'\n",
    "\n"
   ]
  },
  {
   "cell_type": "code",
   "execution_count": 50,
   "metadata": {
    "collapsed": false
   },
   "outputs": [
    {
     "name": "stdout",
     "output_type": "stream",
     "text": [
      "https://farm6.staticflickr.com/5719/25323674369_07087b5402.jpg\n",
      "https://farm6.staticflickr.com/5662/30871318681_202d768c41.jpg\n",
      "https://farm6.staticflickr.com/5496/30871254951_bc75259989.jpg\n",
      "https://farm6.staticflickr.com/5465/30842963982_c4eb6bb0c8.jpg\n",
      "https://farm6.staticflickr.com/5605/30657732580_777e9de65d.jpg\n"
     ]
    }
   ],
   "source": [
    "flickr = FlickrAPI(FLICKR_PUBLIC, FLICKR_SECRET, format='parsed-json')\n",
    "\n",
    "extras='url_sq,url_t,url_s,url_q,url_m,url_n,url_z,url_c,url_l,url_o'\n",
    "\n",
    "search_phrase = 'kitten'\n",
    "nimages = 5\n",
    "\n",
    "cats = flickr.photos.search(text=search_phrase, per_page=nimages, extras=extras)\n",
    "\n",
    "photos = cats['photos']\n",
    "\n",
    "from pprint import pprint\n",
    "#pprint(photos)\n",
    "\n",
    "for i,photo in enumerate(photos['photo']):\n",
    "    #print photo\n",
    "    url = photo[\"url_m\"]\n",
    "    print url\n",
    "    r = requests.get(url,stream=True)\n",
    "    \n",
    "    filename = \"./%s_%03d.jpg\" % (search_phrase,i)\n",
    "    with open(filename, 'wb') as f:\n",
    "        f.write(r.content)\n",
    "    \n",
    "    \n",
    "    \n"
   ]
  },
  {
   "cell_type": "code",
   "execution_count": null,
   "metadata": {
    "collapsed": true
   },
   "outputs": [],
   "source": []
  }
 ],
 "metadata": {
  "anaconda-cloud": {},
  "kernelspec": {
   "display_name": "Python [default]",
   "language": "python",
   "name": "python2"
  },
  "language_info": {
   "codemirror_mode": {
    "name": "ipython",
    "version": 2
   },
   "file_extension": ".py",
   "mimetype": "text/x-python",
   "name": "python",
   "nbconvert_exporter": "python",
   "pygments_lexer": "ipython2",
   "version": "2.7.12"
  }
 },
 "nbformat": 4,
 "nbformat_minor": 1
}
